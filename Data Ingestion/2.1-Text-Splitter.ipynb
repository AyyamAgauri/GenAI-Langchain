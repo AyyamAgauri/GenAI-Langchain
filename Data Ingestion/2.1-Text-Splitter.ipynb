{
 "cells": [
  {
   "cell_type": "markdown",
   "metadata": {},
   "source": [
    "Text Splitter by Character Text Splitter"
   ]
  },
  {
   "cell_type": "code",
   "execution_count": 4,
   "metadata": {},
   "outputs": [],
   "source": [
    "from langchain_community.document_loaders import TextLoader\n",
    "loader = TextLoader('Sample-Transformers.txt')\n",
    "docs = loader.load()"
   ]
  },
  {
   "cell_type": "code",
   "execution_count": 6,
   "metadata": {},
   "outputs": [
    {
     "name": "stderr",
     "output_type": "stream",
     "text": [
      "Created a chunk of size 369, which is longer than the specified 100\n",
      "Created a chunk of size 335, which is longer than the specified 100\n",
      "Created a chunk of size 312, which is longer than the specified 100\n",
      "Created a chunk of size 318, which is longer than the specified 100\n",
      "Created a chunk of size 698, which is longer than the specified 100\n",
      "Created a chunk of size 260, which is longer than the specified 100\n",
      "Created a chunk of size 265, which is longer than the specified 100\n",
      "Created a chunk of size 364, which is longer than the specified 100\n"
     ]
    },
    {
     "data": {
      "text/plain": [
       "[Document(metadata={'source': 'Sample-Transformers.txt'}, page_content='The Transformer architecture, introduced in the paper \"Attention is All You Need\" by Vaswani et al. in 2017, is a foundational model in the field of natural language processing (NLP). Unlike traditional recurrent neural networks (RNNs) and convolutional neural networks (CNNs), Transformers rely entirely on a mechanism called self-attention to process input sequences.'),\n",
       " Document(metadata={'source': 'Sample-Transformers.txt'}, page_content='### Key Components of the Transformer'),\n",
       " Document(metadata={'source': 'Sample-Transformers.txt'}, page_content='1. **Self-Attention Mechanism**: \\n   The core innovation of the Transformer is the self-attention mechanism, which allows the model to weigh the importance of different words in a sentence relative to each other. This enables the model to capture long-range dependencies and contextual relationships more effectively than RNNs or CNNs.'),\n",
       " Document(metadata={'source': 'Sample-Transformers.txt'}, page_content='2. **Multi-Head Attention**:\\n   The model uses multiple self-attention heads to capture different aspects of the relationships between words. Each attention head operates independently, and their outputs are concatenated and linearly transformed, providing the model with multiple perspectives on the input data.'),\n",
       " Document(metadata={'source': 'Sample-Transformers.txt'}, page_content='3. **Positional Encoding**:\\n   Since Transformers do not inherently consider the order of words (unlike RNNs), they incorporate positional encodings to inject information about the position of each word in the sequence. These encodings are added to the input embeddings at the bottom of the encoder and decoder stacks.'),\n",
       " Document(metadata={'source': 'Sample-Transformers.txt'}, page_content=\"4. **Encoder-Decoder Structure**:\\n   The Transformer consists of two main parts: the encoder and the decoder. \\n   - **Encoder**: The encoder is composed of a stack of identical layers, each containing two sub-layers: a multi-head self-attention mechanism and a position-wise fully connected feed-forward network. The encoder processes the input sequence and generates a continuous representation.\\n   - **Decoder**: The decoder is also composed of a stack of identical layers, but each layer has an additional sub-layer to perform multi-head attention over the encoder's output. The decoder generates the output sequence by attending to both the encoder's output and the previously generated tokens.\"),\n",
       " Document(metadata={'source': 'Sample-Transformers.txt'}, page_content='5. **Feed-Forward Neural Networks**:\\n   Each encoder and decoder layer contains a fully connected feed-forward network that processes the output of the attention mechanisms. This network consists of two linear transformations with a ReLU activation in between.'),\n",
       " Document(metadata={'source': 'Sample-Transformers.txt'}, page_content='6. **Layer Normalization and Residual Connections**:\\n   Each sub-layer (both in the encoder and the decoder) is followed by layer normalization and a residual connection. These techniques help stabilize the training process and improve the convergence of the model.'),\n",
       " Document(metadata={'source': 'Sample-Transformers.txt'}, page_content='### Applications and Impact'),\n",
       " Document(metadata={'source': 'Sample-Transformers.txt'}, page_content='The Transformer architecture has revolutionized the field of NLP, leading to significant advancements in tasks such as machine translation, text summarization, and question answering. It serves as the foundation for many state-of-the-art models, including BERT (Bidirectional Encoder Representations from Transformers) and GPT (Generative Pre-trained Transformer).'),\n",
       " Document(metadata={'source': 'Sample-Transformers.txt'}, page_content='By enabling more efficient parallelization and capturing complex dependencies within text, Transformers have set new benchmarks and opened up new possibilities for language understanding and generation.')]"
      ]
     },
     "execution_count": 6,
     "metadata": {},
     "output_type": "execute_result"
    }
   ],
   "source": [
    "#Works on finding the new line terminator \\n\n",
    "\n",
    "from langchain_text_splitters import CharacterTextSplitter\n",
    "splitter = CharacterTextSplitter(separator=\"\\n\\n\", chunk_size = 100, chunk_overlap = 20)\n",
    "\n",
    "splitter.split_documents(docs)\n",
    "\n",
    "#Chunk size can be more than specified if separator is not found"
   ]
  },
  {
   "cell_type": "code",
   "execution_count": null,
   "metadata": {},
   "outputs": [],
   "source": []
  }
 ],
 "metadata": {
  "kernelspec": {
   "display_name": "genaienv",
   "language": "python",
   "name": "python3"
  },
  "language_info": {
   "codemirror_mode": {
    "name": "ipython",
    "version": 3
   },
   "file_extension": ".py",
   "mimetype": "text/x-python",
   "name": "python",
   "nbconvert_exporter": "python",
   "pygments_lexer": "ipython3",
   "version": "3.11.7"
  }
 },
 "nbformat": 4,
 "nbformat_minor": 2
}
